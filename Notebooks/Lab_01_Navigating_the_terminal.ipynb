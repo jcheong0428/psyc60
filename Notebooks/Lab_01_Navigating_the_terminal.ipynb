{
 "cells": [
  {
   "cell_type": "markdown",
   "metadata": {
    "ExecuteTime": {
     "end_time": "2017-09-15T02:48:29.623368",
     "start_time": "2017-09-15T02:48:29.502297"
    }
   },
   "source": [
    "# Lab 01: Navigating the terminal & looking at a brain image\n",
    "\n",
    "\n",
    "In this section we will go over some basic commands on :  \n",
    "1) How to navigate the terminal and start a remote desktop on the server  \n",
    "2) Copy some brain files over from another directory  \n",
    "3) View the brain files using FSLview  \n",
    "4) View the brain files using SPM  \n",
    "5) View the brain files using AFNI \n",
    "\n",
    "# 1. Logging in to the server \n",
    "  \n",
    "Make sure you are connected to **Dartmouth Secure** network\n",
    "\n",
    "### MAC users\n",
    "The steps are quite simple for MAC users.   \n",
    "1) Open up the **Terminal** application. (search for Terminal in your Spotlight)   \n",
    "2) SSH using the following command replacing {YOUR_ID} with the one given to you in class.   "
   ]
  },
  {
   "cell_type": "code",
   "execution_count": null,
   "metadata": {
    "ExecuteTime": {
     "end_time": "2017-09-20T10:53:26.538118",
     "start_time": "2017-09-20T10:53:26.533562"
    }
   },
   "outputs": [],
   "source": [
    "ssh -Y {YOUR_ID}@hera.dartmouth.edu"
   ]
  },
  {
   "cell_type": "markdown",
   "metadata": {},
   "source": [
    "3) After you type in your password, you will notice that you are logged in as your ID and see a screen like this:\n",
    "\n",
    "<img src=\"Images/terminal_screenshot1.png\"></img>\n",
    "\n",
    "Congratulations you opened up your first ssh connection to a remote cluster!\n",
    "\n",
    "You can easily logout by typing in **exit**. "
   ]
  },
  {
   "cell_type": "markdown",
   "metadata": {},
   "source": [
    "### PC users\n",
    "PC's don't come with Terminals for ssh-ing into remote servers.   \n",
    "You will need to install Putty that you can download from http://www.putty.org/  \n",
    "1) Install PuTTy  \n",
    "2) Open PuTTy  \n",
    "3) Configure PuTTy settings as the following then click **Open**  \n",
    "Host Name : hera.dartmouth.edu *or* eros.dartmouth.edu  \n",
    "Connection type : SSH  \n",
    "<img src=\"Images/putty_config.png\" width=\"500\"></img>  \n",
    "\n",
    "A Terminal window will open up and ask for your login and password. \n",
    "\n",
    "Enter your ID and PW as given by the instructor. You should see the same terminal window as above"
   ]
  },
  {
   "cell_type": "markdown",
   "metadata": {},
   "source": [
    "## Change your password!  \n",
    "If you were given a temporary password change your password (and please don't forget it) with the following command once you have connected to the server through SSH:"
   ]
  },
  {
   "cell_type": "code",
   "execution_count": null,
   "metadata": {},
   "outputs": [],
   "source": [
    "kpasswd"
   ]
  },
  {
   "cell_type": "markdown",
   "metadata": {},
   "source": [
    "## Setting up VNC \n",
    "You are welcome to just use the Terminal for the work but sometimes you might want a more interactive Desktop experience.  \n",
    "To that end, it is nice to use a VNC. \n",
    "\n",
    "Another reason for VNC is that the connection above goes away when your internet connection goes down, or if you close terminal, or if the server reboots.\n",
    "To stay connected in the first two cases we are going to use Virtual Network Computing (VNC) which essentially makes a remote desktop on the server that you can connect to and see from your computer.   \n",
    "\n",
    "MAC: If you have a MAC, VNC is already part of your computer (Finder -> Go -> Connect to Server).  \n",
    "PC: If you have a PC then you will need to install a VNC client. Any should work but UltraVNC is pretty reliable: http://www.uvnc.com/  \n",
    "\n",
    "You will need to activate VNC on the server before you connect to it. \n",
    "With your SSH connection established earlier (with Terminal or PuTTy), use the following command to start a VNC session:"
   ]
  },
  {
   "cell_type": "code",
   "execution_count": null,
   "metadata": {},
   "outputs": [],
   "source": [
    "vncserver -geometry 1600x1200"
   ]
  },
  {
   "cell_type": "markdown",
   "metadata": {},
   "source": [
    "You should see something like this:\n",
    "  \n",
    "<img src=\"Images/vnc_screenshot.png\"></img>\n",
    "\n",
    "\n"
   ]
  },
  {
   "cell_type": "markdown",
   "metadata": {},
   "source": [
    "You will need to set a password for your VNC desktop connections. Please do so and remember it!\n",
    "\n",
    "Now you can connect to your VNC desktop:\n",
    "#### MAC: \n",
    "launch **Finder** -> click **Go** on the top menu panel -> click **Connect to Server**  \n",
    "In the **Server Address** section, type in your vnc address  \n",
    "`vnc://{eros_or_hera}.dartmouth.edu:59##`  \n",
    "and click **Connect** and enter your password.\n",
    "\n",
    "#### PC: \n",
    "Follow similar steps as the MAC via UltraVNC.  \n",
    "Open UltraVNC Viewer  \n",
    "Your address will be   \n",
    "`vnc://{eros_or_hera}.dartmouth.edu:59##`\n",
    "#### Both:\n",
    "with the last ## representing the desktop number returned above eros:\"5\".   \n",
    "If it is a single digit then put a 0 in front of it.   \n",
    "IE desktop 11 goes to 5911 and desktop 5 goes to 5905.  \n",
    "\n",
    "\n",
    "For example:"
   ]
  },
  {
   "cell_type": "code",
   "execution_count": null,
   "metadata": {},
   "outputs": [],
   "source": [
    "vnc://eros.dartmouth.edu:5905"
   ]
  },
  {
   "cell_type": "markdown",
   "metadata": {},
   "source": [
    "If all goes well, you should see a screen like this: \n",
    "\n",
    "<img src=\"Images/vnc_desktop_screenshot.png\" width=\"500\"></img>\n",
    "\n",
    "Now, to open up your terminal window, click the **foot shaped icon** in the bottom left hand corner -> **System Tools** -> **Terminal** \n",
    "\n",
    "Then you will see your Terminal window pop up! \n",
    "\n",
    "<img src=\"Images/vnc_desktop_w_terminal_screenshot.png\" width=\"500\"></img>\n",
    "\n",
    "\n",
    "Inside the terminal, to see if you have any open VNC windows you can use the following command:"
   ]
  },
  {
   "cell_type": "code",
   "execution_count": null,
   "metadata": {},
   "outputs": [],
   "source": [
    "lsvnc"
   ]
  },
  {
   "cell_type": "markdown",
   "metadata": {},
   "source": [
    "To make sure that this VNC session stays active and doesn't log itself out we need to run <b>reauth</b>. In your terminal window type"
   ]
  },
  {
   "cell_type": "code",
   "execution_count": null,
   "metadata": {},
   "outputs": [],
   "source": [
    "reauth 18000 yourusername"
   ]
  },
  {
   "cell_type": "markdown",
   "metadata": {},
   "source": [
    "Then minimize this terminal (dont close it) and open a new one as you did above."
   ]
  },
  {
   "cell_type": "markdown",
   "metadata": {},
   "source": [
    "# 2. Basics in navigating the terminal \n",
    "Now we will learn about some basic commands to navigate in the terminal.  \n",
    "These commands will become useful as you move around data files and call fMRI analysis programs. \n",
    "Think of the Terminal as the same as navigating using a Finder (mac) or File Browser (win) using just your keyboard. \n",
    "\n",
    "To get started, open up a Terminal window.\n",
    "MAC: You can use the SSH session directly with the port forwarding option -Y (You might need ot install xcode by running `xcode-select --install` in your local terminal. \n",
    "PC: Open terminal in your VNC as shown above.\n",
    "\n",
    "First, you probably want to know which directory you are in.   \n",
    "This is done through the `pwd` command which stands for `print working directory`"
   ]
  },
  {
   "cell_type": "code",
   "execution_count": null,
   "metadata": {},
   "outputs": [],
   "source": [
    "pwd"
   ]
  },
  {
   "cell_type": "markdown",
   "metadata": {},
   "source": [
    "You will see a result showing the current path which should look like this:   \n",
    "`/afs/dbic.dartmouth.edu/usr/PBS60/pbs60a`  \n",
    "\n",
    "The very first folder you log into is your \"home\" directory. \n",
    "\n",
    "Now let's look at what kind of files are in your current directory.  \n",
    "To do this we use the command `ls` which is short for `list` \n"
   ]
  },
  {
   "cell_type": "code",
   "execution_count": null,
   "metadata": {},
   "outputs": [],
   "source": [
    "ls"
   ]
  },
  {
   "cell_type": "markdown",
   "metadata": {},
   "source": [
    "You should now see that it hows 3 different folders: bin, matlab, and subjects.  \n",
    "`bin  matlab  subjects`\n",
    "\n",
    "These are the current foder/files in your directory.  \n",
    "You can change how you view the list using different options such as `ls -l` which will show you in list format `ls -al` which will show you all hidden files, or `ls -lh` which will show you the files in list format but with human readable sizes of folders. \n",
    "\n",
    "We can also look at what files exist in each of the subfolders using `ls` followed by wildcard `*`"
   ]
  },
  {
   "cell_type": "code",
   "execution_count": null,
   "metadata": {},
   "outputs": [],
   "source": [
    "ls *"
   ]
  },
  {
   "cell_type": "markdown",
   "metadata": {},
   "source": [
    "The result should show you files within each subdirectory, such as the following. \n",
    "```\n",
    "bin:\n",
    "\n",
    "matlab:\n",
    "startup.m\n",
    "\n",
    "subjects:\n",
    "```"
   ]
  },
  {
   "cell_type": "markdown",
   "metadata": {},
   "source": [
    "If all goes well, your terminal should look like this:   \n",
    "  \n",
    "<img src=\"Images/terminal_screenshot2.png\"></img>\n",
    "\n",
    "\n",
    "This is all good, and now lets try to actually navigate in and out of folders.  \n",
    "We use the change directory command, which conveniently is `cd` followed by the folder you'd like to navigate to such as `matlab`. \n",
    "\n",
    "Note that in many cases you don't need to type in the full file name. Instead you can press **tab** to use tab-completion. \n"
   ]
  },
  {
   "cell_type": "code",
   "execution_count": null,
   "metadata": {},
   "outputs": [],
   "source": [
    "cd matlab"
   ]
  },
  {
   "cell_type": "markdown",
   "metadata": {},
   "source": [
    "Now you will see that you've moved into the matlab folder (check with `pwd`) and the folder contains the startup.m file as we've seen before (check with `ls`). \n",
    "\n",
    "To move back to the original folder we were in, we could use the `cd` command again followed by a space and two periods `cd ..` which will move you up one folder. Alternative, you could also jus type `cd` which will bring you back to your home directory. "
   ]
  },
  {
   "cell_type": "code",
   "execution_count": null,
   "metadata": {},
   "outputs": [],
   "source": [
    "cd .."
   ]
  },
  {
   "cell_type": "markdown",
   "metadata": {},
   "source": [
    "Now let's trt navigating to another directory by going up one directory to /PBS60  \n",
    "We could do this by doing `cd ..` again which should put you in the `/afs/dbic.dartmouth.edu/usr/PBS60` folder (check with `pwd`). "
   ]
  },
  {
   "cell_type": "code",
   "execution_count": null,
   "metadata": {},
   "outputs": [],
   "source": [
    "cd ..\n",
    "ls "
   ]
  },
  {
   "cell_type": "markdown",
   "metadata": {},
   "source": [
    "This should show you all the other folders in the group such as:  \n",
    "```\n",
    "ALEX  jcheong   pbs60a  pbs60c  pbs60e  pbs60g  pbs60i  pbs60k  pbs60m  pbs60o  pbs60q  pbs60s  pbs60u  pbs60w  pbs60y\n",
    "DATA  KRISTINA  pbs60b  pbs60d  pbs60f  pbs60h  pbs60j  pbs60l  pbs60n  pbs60p  pbs60r  pbs60t  pbs60v  pbs60x \n",
    "```\n",
    "\n",
    "Now let's go into jcheong 's folder which will have a folder named `sub-sid000012` (check with `ls`). \n",
    "Navigate into the folder and list what's in the directory. You should see two folders `anat` and `func`\n"
   ]
  },
  {
   "cell_type": "code",
   "execution_count": null,
   "metadata": {},
   "outputs": [],
   "source": [
    "cd jcheong\n",
    "ls \n",
    "cd sub-sid000012\n",
    "ls "
   ]
  },
  {
   "cell_type": "markdown",
   "metadata": {},
   "source": [
    "These are folders with brain image files (nifti or nii) files inside of them. You can check what's in each folder using `ls *`\n",
    "\n",
    "Now, make note of the full path to the subject folder using `pwd`\n",
    "which shoul look something lik this: \n",
    "`/afs/dbic.dartmouth.edu/usr/PBS60/jcheong/sub-sid000012`"
   ]
  },
  {
   "cell_type": "markdown",
   "metadata": {},
   "source": [
    "# 3. Copying files and directories. \n",
    "Now let's return to your home directory by simply typing `cd`\n",
    "\n",
    "We are going to copy the folder over the `/sub-sid000012` to your own directory.   \n",
    "This can be achieved by command copy: `cp -rv {input file/folder} {output file/folder}`   \n",
    "Let's put this in the subject folder so our command would look like the following.   \n",
    "The `-r` option is necessary because it's a folder that requires recurive copying. \n",
    "and the `-v` option for verbose details about the copy process. \n",
    "\n",
    "This will move the sub-sid000012 folder in your own subjects folder."
   ]
  },
  {
   "cell_type": "code",
   "execution_count": null,
   "metadata": {},
   "outputs": [],
   "source": [
    "cp -rv /afs/dbic.dartmouth.edu/usr/PBS60/jcheong/sub-sid000012 subjects"
   ]
  },
  {
   "cell_type": "markdown",
   "metadata": {},
   "source": [
    "Alternatively, you can use the similar `rsync` function with similar options. \n",
    "This is a more powerful/versatile command that allows copying internally and remotely. "
   ]
  },
  {
   "cell_type": "code",
   "execution_count": null,
   "metadata": {},
   "outputs": [],
   "source": [
    "rsync -azvPhr /afs/dbic.dartmouth.edu/usr/PBS60/jcheong/sub-sid000012 subjects"
   ]
  },
  {
   "cell_type": "markdown",
   "metadata": {},
   "source": [
    "The copying will take couple seconds.  \n",
    "When complete you can enter the `subjects` folder to check that the subject `sub-sid000012` copied successfully. "
   ]
  },
  {
   "cell_type": "markdown",
   "metadata": {},
   "source": [
    "## Other useful commands to practice: \n",
    "\n",
    "You will grow more comfortable as you use the terminal and persist through trial and error. \n",
    "Here are some other useful commands to try out and practice. \n",
    "\n",
    "### globbing \n",
    "Glob is not a command but it allows you to grab multiple files with certain patterns in their file names. For example, you can grab all files with extension .nii.gz by `ls *.nii.gz` or rsync only those files with `rsync -azvphr *.nii.gz .` "
   ]
  },
  {
   "cell_type": "markdown",
   "metadata": {},
   "source": [
    "### mkdir \n",
    "The `mkdir {directory name}` command lets you create a directory with the name of your choosing.\n",
    "Try making a directory with `myfirstdirectory` by `mkdir myfirstdirectory`"
   ]
  },
  {
   "cell_type": "code",
   "execution_count": null,
   "metadata": {},
   "outputs": [],
   "source": [
    "mkdir myfirstdirectory"
   ]
  },
  {
   "cell_type": "markdown",
   "metadata": {},
   "source": [
    "### mv \n",
    "The `mv {original filename} {destination filename}` command lets you move files or directories around without copying the files. \n",
    "For example you can use this to rename file or folder names. \n",
    "Try renaming your `myfirstdirectory` to `test_directory` using `mv myfirstdirectory test_directory`"
   ]
  },
  {
   "cell_type": "code",
   "execution_count": null,
   "metadata": {},
   "outputs": [],
   "source": [
    "mv myfirstdirectory test_directory"
   ]
  },
  {
   "cell_type": "markdown",
   "metadata": {},
   "source": [
    "### rm \n",
    "`rm -r {file or folder to delete}` is a dangeroud command that you can use to delete files and folders. \n",
    "It does NOT give you any warnings so you can actually delete the entire system by mistake. The `-r` option is necessary to delete a folder. Try deleteing the `test_directory` with `rm -r test_directory`"
   ]
  },
  {
   "cell_type": "code",
   "execution_count": null,
   "metadata": {},
   "outputs": [],
   "source": [
    "rm -r test_directory"
   ]
  },
  {
   "cell_type": "markdown",
   "metadata": {},
   "source": [
    "### which\n",
    "For applications like fslview, you may want to know where the file lives. \n",
    "Using `which {application name}` like `which fslview` will tell you where the fslview file is. "
   ]
  },
  {
   "cell_type": "code",
   "execution_count": null,
   "metadata": {},
   "outputs": [],
   "source": [
    "which fslview"
   ]
  },
  {
   "cell_type": "markdown",
   "metadata": {},
   "source": [
    "### {command} --help \n",
    "For most commands, you can look up what arguments they require and what the functions do using the **--help** flag.   \n",
    "Alternatively you can also look at the full manual using **man {command}**, exit by pressing **q**  \n",
    "For instance:   "
   ]
  },
  {
   "cell_type": "code",
   "execution_count": null,
   "metadata": {},
   "outputs": [],
   "source": [
    "which --help\n",
    "fslview --help \n",
    "man rm"
   ]
  },
  {
   "cell_type": "markdown",
   "metadata": {},
   "source": [
    "### touch \n",
    "`touch {filename}` will let you create a textfile. \n",
    "Try creating your own readme file such as `touch readme.txt` "
   ]
  },
  {
   "cell_type": "code",
   "execution_count": null,
   "metadata": {},
   "outputs": [],
   "source": [
    "touch readme.txt"
   ]
  },
  {
   "cell_type": "markdown",
   "metadata": {},
   "source": [
    "### vi or vim \n",
    "`vi` or `vim` are text editors for the terminal. \n",
    "You can access it directly or load the file into them, for example: `vi readme.txt` "
   ]
  },
  {
   "cell_type": "code",
   "execution_count": null,
   "metadata": {},
   "outputs": [],
   "source": [
    "vi readme.txt"
   ]
  },
  {
   "cell_type": "markdown",
   "metadata": {},
   "source": [
    "To edit the file, you will need to press \"i\" on your keyboard which will let you type into the file. \n",
    "Once done, you can press \"ESC\" + \":\" + \"wq!\" to save and exit the editor. \n",
    "\n",
    "\n",
    "<img src=\"Images/terminal_screenshot3.png\"></img>"
   ]
  },
  {
   "cell_type": "markdown",
   "metadata": {},
   "source": [
    "# 4. View brain images using different fMRI softwares\n",
    "There are three major fMRI analysis softwares that most researchers use: FSL, SPM, AFNI. \n",
    "Here we will briefly open up each program to give you a sense of what they are like. \n",
    "\n",
    "## Viewing a brain file using FSLview\n",
    "\n",
    "FSL was developed in Oxford, UK (https://fsl.fmrib.ox.ac.uk/fsl/fslwiki)\n",
    "\n",
    "FSLview is the image viewer used in FSL. (For newer versions of FSL it has been replaced with FSLeyes.)   \n",
    "It is not an analysis console but you can get a sense of what brain images look like and what you are dealing with.   \n",
    "\n",
    "In your terminal cd into the `/subjects/sub-sid000012/anat` folder and check that the `sub-sid000012_acq-MPRAGE_T1w.nii.gz` file exists. \n",
    "\n",
    "We can open the file using `fslview` followed by the filename "
   ]
  },
  {
   "cell_type": "code",
   "execution_count": null,
   "metadata": {},
   "outputs": [],
   "source": [
    "fslview sub-sid000012_acq-MPRAGE_T1w.nii.gz"
   ]
  },
  {
   "cell_type": "markdown",
   "metadata": {},
   "source": [
    "You should see a window pop up that looks like the following. Feel free to click around and admire the human brain imaging!   \n",
    "  \n",
    "    \n",
    "<img src=\"Images/fslview_screenshot.png\" width=\"800\"></img>\n",
    "\n",
    "To launch the analysis console you would just type **fsl** into the terminal.  \n",
    "Before you can type anything else in the terminal you must close fsl, or open another terminal."
   ]
  },
  {
   "cell_type": "markdown",
   "metadata": {},
   "source": [
    "## SPM - Statistical Parametric Mapping\n",
    "\n"
   ]
  },
  {
   "cell_type": "markdown",
   "metadata": {},
   "source": [
    "SPM is developed to be used in the MATLAB environment and was also created in UCL, UK (http://www.fil.ion.ucl.ac.uk/spm/doc/)   \n",
    "It is fast, powerful, and (maybe) more scriptable but the downside is that you need to have a MATLAB license which might be expensive if you are not affiliated with a University that has a school-wide license.\n",
    "\n",
    "To open MATLAB on these servers you would normally just type 'matlab' but we are going to start MATLAB with some specific paths so we can run SPM and xjview (a add-on brain image viewer). From a terminal type:"
   ]
  },
  {
   "cell_type": "code",
   "execution_count": null,
   "metadata": {},
   "outputs": [],
   "source": [
    "spm12"
   ]
  },
  {
   "cell_type": "markdown",
   "metadata": {},
   "source": [
    "Once this opens you should see something like this:\n",
    "\n",
    "<img src=\"Images/matlab_screenshot.png\"></img>\n",
    "\n",
    "Now that we have matlab open we can start SPM"
   ]
  },
  {
   "cell_type": "code",
   "execution_count": null,
   "metadata": {},
   "outputs": [],
   "source": [
    "spm fmri"
   ]
  },
  {
   "cell_type": "markdown",
   "metadata": {},
   "source": [
    "You should be able to see something like this:\n",
    "\n",
    "<img src=\"Images/spm_screenshot.png\" width=\"800\"></img>\n",
    "\n"
   ]
  },
  {
   "cell_type": "markdown",
   "metadata": {},
   "source": [
    "SPM is the main program we will be using to do preprocessing and data analysis. Display a brain image in SPM by selecting \"Display\" and then finding the brain image you loaded earlier. Play around with the settings and click around the brain. Try adding an overlay. Next lets use another SPM-based program which can visualize brain images nicely - xjView. Close SPM by clicking the X in the top right of the SPM12 menu. Then start xjView from the matlab prompt"
   ]
  },
  {
   "cell_type": "code",
   "execution_count": null,
   "metadata": {},
   "outputs": [],
   "source": [
    "xjview"
   ]
  },
  {
   "cell_type": "markdown",
   "metadata": {},
   "source": [
    "Now try to load the file /afs/dbic.dartmouth.edu/usr/PBS60/jhuckins/FoodVSPeopleOther_p001_vol_corrected.nii\n",
    "\n",
    "xjView loads files on top of 'template' brain images.  \n",
    "\n",
    "When you are done with xjView you can close it.  \n",
    "\n",
    "To exit matlab type"
   ]
  },
  {
   "cell_type": "code",
   "execution_count": null,
   "metadata": {},
   "outputs": [],
   "source": [
    "exit"
   ]
  },
  {
   "cell_type": "markdown",
   "metadata": {},
   "source": [
    "This will bring you back to terminal and you can run AFNI or other programs from here."
   ]
  },
  {
   "cell_type": "markdown",
   "metadata": {},
   "source": [
    "## AFNI - Analysis of Functional Neuro-Images \n",
    "\n",
    "Lastly, we can use AFNI which was developed by NIH folks in the US (https://afni.nimh.nih.gov/)\n",
    "\n",
    "To launch AFNI, you can just type afni in your terminal. \n"
   ]
  },
  {
   "cell_type": "code",
   "execution_count": null,
   "metadata": {},
   "outputs": [],
   "source": [
    "afni"
   ]
  },
  {
   "cell_type": "markdown",
   "metadata": {},
   "source": [
    "Where you will get a console that looks like this\n",
    "\n",
    "<img src=\"Images/afni_console_screenshot.png\" width=\"1000\"></img>"
   ]
  },
  {
   "cell_type": "code",
   "execution_count": null,
   "metadata": {},
   "outputs": [],
   "source": []
  },
  {
   "cell_type": "markdown",
   "metadata": {},
   "source": [
    "# 5. VPN - Virtual Private Network\n",
    "\n",
    "\n",
    "VNC only works on campus, when you are on Dartmouth Secure. \n",
    "If you live off campus or would like to access the server from off-campus you will need to install a VPN. \n",
    "\n",
    "VPN - virtual private network, makes your computer act like its on the Dartmouth network. Install from here:\n",
    "http://tech.dartmouth.edu/its/services-support/help-yourself/knowledge-base/vpn-service-overview\n"
   ]
  },
  {
   "cell_type": "markdown",
   "metadata": {},
   "source": [
    "# 6. Conclusion\n",
    "If you made it through all the steps, fantastic!  \n",
    "If you encountered errors and problems along the way, don't be intimidated, everything takes time to pick up.  \n",
    "Feel free to play around with the brain image viewers and ask if you have any questions at all!   "
   ]
  },
  {
   "cell_type": "code",
   "execution_count": null,
   "metadata": {},
   "outputs": [],
   "source": []
  }
 ],
 "metadata": {
  "anaconda-cloud": {},
  "kernelspec": {
   "display_name": "Python [conda root]",
   "language": "python",
   "name": "conda-root-py"
  },
  "language_info": {
   "codemirror_mode": {
    "name": "ipython",
    "version": 2
   },
   "file_extension": ".py",
   "mimetype": "text/x-python",
   "name": "python",
   "nbconvert_exporter": "python",
   "pygments_lexer": "ipython2",
   "version": "2.7.13"
  },
  "toc": {
   "nav_menu": {
    "height": "242px",
    "width": "252px"
   },
   "navigate_menu": true,
   "number_sections": true,
   "sideBar": true,
   "threshold": 4,
   "toc_cell": false,
   "toc_section_display": "block",
   "toc_window_display": false
  }
 },
 "nbformat": 4,
 "nbformat_minor": 2
}
