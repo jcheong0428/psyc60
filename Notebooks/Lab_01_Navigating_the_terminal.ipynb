{
 "cells": [
  {
   "cell_type": "markdown",
   "metadata": {
    "ExecuteTime": {
     "end_time": "2017-09-15T02:48:29.623368",
     "start_time": "2017-09-15T02:48:29.502297"
    }
   },
   "source": [
    "# Lab 01: Navigating the terminal & looking at a brain image using fslview\n",
    "\n",
    "*written by Jin Hyun Cheong and Jeremy Huckins*\n",
    "\n",
    "In this section we will go over some basic commands on :  \n",
    "1) How to navigate the terminal,  \n",
    "2) Copy some brain files over from another directory  \n",
    "3) View the brain files using fslview\n",
    "\n",
    "\n",
    "## Logging in... \n",
    "\n",
    "First, log on to the cluster using your id and pw. \n",
    "\n",
    "If you are using a mac, you can open terminal and ssh using the following command.\n",
    "Make sure to substitute the ID and PW with your own.\n",
    "\n",
    "The -Y setting supports applications that require opening a graphic window."
   ]
  },
  {
   "cell_type": "code",
   "execution_count": null,
   "metadata": {
    "collapsed": true
   },
   "outputs": [],
   "source": [
    "ssh -Y {YOUR_ID}@eros.dartmouth.edu"
   ]
  },
  {
   "cell_type": "markdown",
   "metadata": {},
   "source": [
    "After you type in your password, you will notice that you are logged in as your ID\n",
    "and see a screen like this:\n",
    "\n",
    "<img src=\"Images/terminal_screenshot1.png\"></img>\n",
    "\n",
    "\n",
    "\n",
    "\n",
    "Now we will use some basic commands to navigate in the terminal.  \n",
    "The concept is the same as navigating using a Finder (mac) or File Browser (win). \n",
    "\n",
    "First, you probably want to know which directory you are in.   \n",
    "This is done through the `pwd` command which stands for `print working directory`"
   ]
  },
  {
   "cell_type": "code",
   "execution_count": null,
   "metadata": {
    "collapsed": true
   },
   "outputs": [],
   "source": [
    "pwd"
   ]
  },
  {
   "cell_type": "markdown",
   "metadata": {},
   "source": [
    "You will see a result showing the current path which should look like this:   \n",
    "`/afs/dbic.dartmouth.edu/usr/PBS60/pbs60a`  \n",
    "\n",
    "The very first folder you log into is your \"home\" directory. \n",
    "\n",
    "Now let's look at what kind of files are in your current directory.  \n",
    "To do this we use the command `ls` which is short for `list` \n"
   ]
  },
  {
   "cell_type": "code",
   "execution_count": null,
   "metadata": {
    "collapsed": true
   },
   "outputs": [],
   "source": [
    "ls"
   ]
  },
  {
   "cell_type": "markdown",
   "metadata": {},
   "source": [
    "You should now see that it hows 3 different folders: bin, matlab, and subjects.  \n",
    "`bin  matlab  subjects`\n",
    "\n",
    "These are the current foder/files in your directory. You can change how you view the list using different options such as `ls -l` which will show you in list format `ls -al` which will show you all hidden files, or `ls -lh` which will show you the files in list format but with human readable sizes of folders. \n",
    "\n",
    "We can also look at what files exist in each of the subfolders using `ls` followed by wildcard `*`"
   ]
  },
  {
   "cell_type": "code",
   "execution_count": null,
   "metadata": {
    "collapsed": true
   },
   "outputs": [],
   "source": [
    "ls *"
   ]
  },
  {
   "cell_type": "markdown",
   "metadata": {},
   "source": [
    "The result should show you files within each subdirectory, such as the following. \n",
    "```\n",
    "bin:\n",
    "\n",
    "matlab:\n",
    "startup.m\n",
    "\n",
    "subjects:\n",
    "```"
   ]
  },
  {
   "cell_type": "markdown",
   "metadata": {},
   "source": [
    "If all goes well, your terminal should look like this:   \n",
    "  \n",
    "<img src=\"Images/terminal_screenshot2.png\"></img>\n",
    "\n",
    "\n",
    "This is all good, and now lets try to actually navigate in and out of folders.  \n",
    "We use the change directory command, which conveniently is `cd` followed by the folder you'd like to navigate to such as `matlab`. "
   ]
  },
  {
   "cell_type": "code",
   "execution_count": null,
   "metadata": {
    "collapsed": true
   },
   "outputs": [],
   "source": [
    "cd matlab"
   ]
  },
  {
   "cell_type": "markdown",
   "metadata": {},
   "source": [
    "Now you will see that you've moved into the matlab folder (check with `pwd`) and the folder contains the startup.m file as we've seen before (check with `ls`). \n",
    "\n",
    "To move back to the original folder we were in, we could use the `cd` command again followed by a space and two periods `cd ..` which will move you up one folder. Alternative, you could also jus type `cd` which will bring you back to your home directory. "
   ]
  },
  {
   "cell_type": "code",
   "execution_count": null,
   "metadata": {
    "collapsed": true
   },
   "outputs": [],
   "source": [
    "cd .."
   ]
  },
  {
   "cell_type": "markdown",
   "metadata": {},
   "source": [
    "Now let's trt navigating to another directory by going up one directory to /PBS60  \n",
    "We could do this by doing `cd ..` again which should put you in the `/afs/dbic.dartmouth.edu/usr/PBS60` folder (check with `pwd`). "
   ]
  },
  {
   "cell_type": "code",
   "execution_count": null,
   "metadata": {
    "collapsed": true
   },
   "outputs": [],
   "source": [
    "cd ..\n",
    "ls "
   ]
  },
  {
   "cell_type": "markdown",
   "metadata": {},
   "source": [
    "This should show you all the other folders in the group such as:  \n",
    "```\n",
    "ALEX  jcheong   pbs60a  pbs60c  pbs60e  pbs60g  pbs60i  pbs60k  pbs60m  pbs60o  pbs60q  pbs60s  pbs60u  pbs60w  pbs60y\n",
    "DATA  KRISTINA  pbs60b  pbs60d  pbs60f  pbs60h  pbs60j  pbs60l  pbs60n  pbs60p  pbs60r  pbs60t  pbs60v  pbs60x \n",
    "```\n",
    "\n",
    "Now let's go into jcheong 's folder which will have a folder named `sub-sid000012` (check with `ls`). \n",
    "Navigate into the folder and list what's in the directory. You should see two folders `anat` and `func`\n"
   ]
  },
  {
   "cell_type": "code",
   "execution_count": null,
   "metadata": {
    "collapsed": true
   },
   "outputs": [],
   "source": [
    "cd jcheong\n",
    "ls \n",
    "cd sub-sid000012\n",
    "ls "
   ]
  },
  {
   "cell_type": "markdown",
   "metadata": {},
   "source": [
    "These are folders with brain image files (nifti or nii) files inside of them. You can check what's in each folder using `ls *`\n",
    "\n",
    "Now, make note of the full path to the subject folder using `pwd`\n",
    "which shoul look something lik this: \n",
    "`/afs/dbic.dartmouth.edu/usr/PBS60/jcheong/sub-sid000012`"
   ]
  },
  {
   "cell_type": "markdown",
   "metadata": {},
   "source": [
    "# Copying files directories. \n",
    "Now let's return to your home directory by simply typing `cd`\n",
    "\n",
    "We are going to copy the folder over the `/sub-sid000012` to your own directory.   \n",
    "This can be achieved by command copy: `cp -rv {input file/folder} {output file/folder}`   \n",
    "Let's put this in the subject folder so our command would look like the following.   \n",
    "The `-r` option is necessary because it's a folder that requires recurive copying. \n",
    "and the `-v` option for verbose details about the copy process. \n",
    "\n",
    "This will move the sub-sid000012 folder in your own subjects folder."
   ]
  },
  {
   "cell_type": "code",
   "execution_count": null,
   "metadata": {
    "collapsed": true
   },
   "outputs": [],
   "source": [
    "cp -rv /afs/dbic.dartmouth.edu/usr/PBS60/jcheong/sub-sid000012 subjects"
   ]
  },
  {
   "cell_type": "markdown",
   "metadata": {},
   "source": [
    "Alternatively, you can use the similar `rsync` function with similar options. \n",
    "This is a more powerful/versatile command that allows copying internally and remotely. "
   ]
  },
  {
   "cell_type": "code",
   "execution_count": null,
   "metadata": {
    "collapsed": true
   },
   "outputs": [],
   "source": [
    "rsync -azvPhr /afs/dbic.dartmouth.edu/usr/PBS60/jcheong/sub-sid000012 subjects"
   ]
  },
  {
   "cell_type": "markdown",
   "metadata": {},
   "source": [
    "The copying will take couple seconds.  \n",
    "When complete you can enter the `subjects` folder to check that the subject `sub-sid000012` copied successfully. "
   ]
  },
  {
   "cell_type": "markdown",
   "metadata": {},
   "source": [
    "# Viewing a brain file using fslview\n",
    "\n",
    "Now cd into the `/subjects/sub-sid000012/anat` folder and check that the `sub-sid000012_acq-MPRAGE_T1w.nii.gz` file exists. \n",
    "\n",
    "We can open the file using `fslview` followed by the filename "
   ]
  },
  {
   "cell_type": "code",
   "execution_count": null,
   "metadata": {
    "collapsed": true
   },
   "outputs": [],
   "source": [
    "fslview sub-sid000012_acq-MPRAGE_T1w.nii.gz"
   ]
  },
  {
   "cell_type": "markdown",
   "metadata": {},
   "source": [
    "You should see a window pop up that looks like the following. Feel free to click around and admire the human brain imaging!   \n",
    "  \n",
    "    \n",
    "<img src=\"Images/fslview_screenshot.png\"></img>\n"
   ]
  },
  {
   "cell_type": "markdown",
   "metadata": {},
   "source": [
    "# Other useful commands: \n",
    "\n",
    "You will grow more comfortable as you use the terminal and persist through trial and error. \n",
    "Here are some other useful commands. \n",
    "\n",
    "## globbing \n",
    "Glob is not a command but it allows you to grab multiple files with certain patterns in their file names. For example, you can grab all files with extension .nii.gz by `ls *.nii.gz` or rsync only those files with `rsync -azvphr *.nii.gz .` "
   ]
  },
  {
   "cell_type": "markdown",
   "metadata": {},
   "source": [
    "## mkdir \n",
    "The `mkdir {directory name}` command lets you create a directory with the name of your choosing.\n",
    "Try making a directory with `myfirstdirectory` by `mkdir myfirstdirectory`"
   ]
  },
  {
   "cell_type": "code",
   "execution_count": null,
   "metadata": {
    "collapsed": true
   },
   "outputs": [],
   "source": [
    "mkdir myfirstdirectory"
   ]
  },
  {
   "cell_type": "markdown",
   "metadata": {},
   "source": [
    "## mv \n",
    "The `mv {original filename} {destination filename}` command lets you move files or directories around without copying the files. \n",
    "For example you can use this to rename file or folder names. \n",
    "Try renaming your `myfirstdirectory` to `test_directory` using `mv myfirstdirectory test_directory`"
   ]
  },
  {
   "cell_type": "code",
   "execution_count": null,
   "metadata": {
    "collapsed": true
   },
   "outputs": [],
   "source": [
    "mv myfirstdirectory test_directory"
   ]
  },
  {
   "cell_type": "markdown",
   "metadata": {},
   "source": [
    "## rm \n",
    "`rm -r {file or folder to delete}` is a dangeroud command that you can use to delete files and folders. \n",
    "It does NOT give you any warnings so you can actually delete the entire system by mistake. The `-r` option is necessary to delete a folder. Try deleteing the `test_directory` with `rm -r test_directory`"
   ]
  },
  {
   "cell_type": "code",
   "execution_count": null,
   "metadata": {
    "collapsed": true
   },
   "outputs": [],
   "source": [
    "rm -r test_directory"
   ]
  },
  {
   "cell_type": "markdown",
   "metadata": {},
   "source": [
    "## which\n",
    "For applications like fslview, you may want to know where the file lives. \n",
    "Using `which {application name}` like `which fslview` will tell you where the fslview file is. "
   ]
  },
  {
   "cell_type": "code",
   "execution_count": null,
   "metadata": {
    "collapsed": true
   },
   "outputs": [],
   "source": [
    "which fslview"
   ]
  },
  {
   "cell_type": "markdown",
   "metadata": {},
   "source": [
    "# touch \n",
    "`touch {filename}` will let you create a textfile. \n",
    "Try creating your own readme file such as `touch readme.txt` "
   ]
  },
  {
   "cell_type": "code",
   "execution_count": null,
   "metadata": {
    "collapsed": true
   },
   "outputs": [],
   "source": [
    "touch readme.txt"
   ]
  },
  {
   "cell_type": "markdown",
   "metadata": {},
   "source": [
    "## vi or vim \n",
    "`vi` or `vim` are text editors for the terminal. \n",
    "You can access it directly or load the file into them, for example: `vi readme.txt` "
   ]
  },
  {
   "cell_type": "code",
   "execution_count": null,
   "metadata": {
    "collapsed": true
   },
   "outputs": [],
   "source": [
    "vi readme.txt"
   ]
  },
  {
   "cell_type": "markdown",
   "metadata": {},
   "source": [
    "To edit the file, you will need to press \"i\" on your keyboard which will let you type into the file. \n",
    "Once done, you can press \"ESC\" + \":\" + \"wq!\" to save and exit the editor. \n",
    "\n",
    "\n",
    "<img src=\"Images/terminal_screenshot3.png\"></img>"
   ]
  },
  {
   "cell_type": "code",
   "execution_count": null,
   "metadata": {
    "collapsed": true
   },
   "outputs": [],
   "source": []
  }
 ],
 "metadata": {
  "anaconda-cloud": {},
  "kernelspec": {
   "display_name": "Python [conda root]",
   "language": "python",
   "name": "conda-root-py"
  },
  "language_info": {
   "codemirror_mode": {
    "name": "ipython",
    "version": 2
   },
   "file_extension": ".py",
   "mimetype": "text/x-python",
   "name": "python",
   "nbconvert_exporter": "python",
   "pygments_lexer": "ipython2",
   "version": "2.7.13"
  },
  "toc": {
   "nav_menu": {
    "height": "242px",
    "width": "252px"
   },
   "navigate_menu": true,
   "number_sections": true,
   "sideBar": true,
   "threshold": 4,
   "toc_cell": false,
   "toc_section_display": "block",
   "toc_window_display": false
  }
 },
 "nbformat": 4,
 "nbformat_minor": 2
}
