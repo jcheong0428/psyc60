{
 "cells": [
  {
   "cell_type": "markdown",
   "metadata": {},
   "source": [
    "# GLM - General Linear Model\n",
    "\n",
    "Today we are going to take preprocessed data from the whole class, make a design matrix for our GLM and run it.\n",
    "\n",
    "In addition to the slides from class here is link to a good overview of GLM in fMRI:\n",
    "http://www.fil.ion.ucl.ac.uk/mfd_archive/2011/page1/mfd2011_GLM.pdf\n",
    "\n",
    "Our class data has been preprocessed using the following steps:\n",
    "Slice timing\n",
    "Realignment/unwarping\n",
    "Normalization (To EPI template)\n",
    "Smoothing (6mm)\n",
    "\n",
    "Next we want to be able to attribute variance to our moments of interest OR nuissance variables. We are going to make regressors for each of these, create a design matrix and run it. \n",
    "\n",
    "We are going to do this for a relatively simple example...  looking at when the movie is on vs when it is not."
   ]
  },
  {
   "cell_type": "markdown",
   "metadata": {},
   "source": [
    "# Reconnection VNC session\n",
    "\n",
    "Reconnect to your VNC session using Mac Scree Share or Windows UltraVNC"
   ]
  },
  {
   "cell_type": "markdown",
   "metadata": {},
   "source": [
    "# Close old SPM and matlab sessions\n",
    "\n",
    "Close SPM and exit matlab from the terminal within your VNC session using using the following command:"
   ]
  },
  {
   "cell_type": "code",
   "execution_count": 1,
   "metadata": {},
   "outputs": [],
   "source": [
    "exit"
   ]
  },
  {
   "cell_type": "markdown",
   "metadata": {},
   "source": [
    "# Navigate to your home directory and make a new directory to work in\n",
    "\n",
    "Type the following:"
   ]
  },
  {
   "cell_type": "code",
   "execution_count": 2,
   "metadata": {},
   "outputs": [
    {
     "name": "stdout",
     "output_type": "stream",
     "text": [
      "/Users/jhuckins\n"
     ]
    }
   ],
   "source": [
    "cd ~"
   ]
  },
  {
   "cell_type": "markdown",
   "metadata": {},
   "source": [
    "Now you can see what directory you are currently in by typing"
   ]
  },
  {
   "cell_type": "code",
   "execution_count": 3,
   "metadata": {},
   "outputs": [
    {
     "data": {
      "text/plain": [
       "'/Users/jhuckins'"
      ]
     },
     "execution_count": 3,
     "metadata": {},
     "output_type": "execute_result"
    }
   ],
   "source": [
    "pwd"
   ]
  },
  {
   "cell_type": "markdown",
   "metadata": {},
   "source": [
    "Make a new directory then move into it"
   ]
  },
  {
   "cell_type": "code",
   "execution_count": 4,
   "metadata": {},
   "outputs": [
    {
     "ename": "SyntaxError",
     "evalue": "invalid syntax (<ipython-input-4-3fdce22a5fd1>, line 1)",
     "output_type": "error",
     "traceback": [
      "\u001b[0;36m  File \u001b[0;32m\"<ipython-input-4-3fdce22a5fd1>\"\u001b[0;36m, line \u001b[0;32m1\u001b[0m\n\u001b[0;31m    mkdir ./GLM\u001b[0m\n\u001b[0m           ^\u001b[0m\n\u001b[0;31mSyntaxError\u001b[0m\u001b[0;31m:\u001b[0m invalid syntax\n"
     ]
    }
   ],
   "source": [
    "mkdir ./GLM\n",
    "cd GLM"
   ]
  },
  {
   "cell_type": "markdown",
   "metadata": {},
   "source": [
    "# Restart matlab\n",
    "\n",
    "From the terminal within your VNC session type"
   ]
  },
  {
   "cell_type": "code",
   "execution_count": null,
   "metadata": {},
   "outputs": [],
   "source": [
    "spm12"
   ]
  },
  {
   "cell_type": "markdown",
   "metadata": {},
   "source": [
    "# Start SPM\n",
    "\n",
    "Once matlab starts type"
   ]
  },
  {
   "cell_type": "code",
   "execution_count": null,
   "metadata": {},
   "outputs": [],
   "source": [
    "spm fmri"
   ]
  },
  {
   "cell_type": "markdown",
   "metadata": {},
   "source": [
    "# Loading regressors \n",
    "\n",
    "We have some premade regressors for our example subject, specifically onsets (when our event starts), durations (how long our event happens for) and regressors of non-interest (motion & run specific variables)\n",
    "\n",
    "Load the subject independent movie onsets and durations here:"
   ]
  },
  {
   "cell_type": "code",
   "execution_count": null,
   "metadata": {},
   "outputs": [],
   "source": [
    "load ~/../DATA/ONSETS/movieon.mat"
   ]
  },
  {
   "cell_type": "markdown",
   "metadata": {},
   "source": [
    "This should load 2 variables into your matlab workspace, movieon and movieon_dur. You can check this by typing \"whos\" in the terminal you are running matlab from. \n",
    "\n",
    "Next load the subject-specific motion and run regressors:"
   ]
  },
  {
   "cell_type": "code",
   "execution_count": null,
   "metadata": {},
   "outputs": [],
   "source": [
    "load /afs/dbic.dartmouth.edu/usr/PBS60/DATA/ONSETS/s006_regressors.txt"
   ]
  },
  {
   "cell_type": "markdown",
   "metadata": {},
   "source": [
    "Again type \"whos\" in the terminal you are running matlab from to see what you loaded."
   ]
  },
  {
   "cell_type": "markdown",
   "metadata": {},
   "source": [
    "# Single subject GLM: Specify 1st-level\n",
    "\n",
    "To run a GLM on a single subject we need to chose Specify 1st-level from the SPM menu. "
   ]
  },
  {
   "cell_type": "markdown",
   "metadata": {},
   "source": [
    "# Chose output directory of GLM\n",
    "\n",
    "You want to select the current directory, which will be labeled as ./ or . in the right hand panel of the file selection dialog. Once you do this it should say something like .../PBS60/pbs60a/GLM"
   ]
  },
  {
   "cell_type": "markdown",
   "metadata": {},
   "source": [
    "# Units for design\n",
    "\n",
    "We can specify our study design in second OR in TRs. We are going to use TR's here. Click Timing parameters, Units for design and select Scans.\n",
    "\n",
    "Next select Interscan interval and specify this to be 2.5 since our scans were 2.5 seconds"
   ]
  },
  {
   "cell_type": "markdown",
   "metadata": {},
   "source": [
    "# Loading our preprocessed files\n",
    "\n",
    "Our class data was preprocessed and is good to go for us to make a 1st-level (single subject) GLM.\n",
    "\n",
    "We are going to be using 4D .nii files for this part. These files contain data from multiple TRs (scans) and make data management easier.\n",
    "\n",
    "Navigate to /afs/dbic.dartmouth.edu/usr/PBS60/DATA/s006\n",
    "Type swuaepi* in filter\n",
    "Below filter type 1:456\n",
    "\n",
    "This should show 912 files, 456 from each run. \n",
    "\n",
    "The top file should be highlighted.\n",
    "Scroll all the way to the bottom, hold down shift and click the last one which should move all of them to the Selected menu then click done."
   ]
  },
  {
   "cell_type": "markdown",
   "metadata": {},
   "source": [
    "# Conditions\n",
    "\n",
    "This tab is where we setup how many experimental conditions we have. We could have multiple conditions if we wanted, but for this example we are going to only have one, when the movie is on. \n",
    "\n",
    "Click on Conditions, New Condition, Name. You want to put MOVIE_ON or something similar like that so you can remember that we are marking when the movie is on in this condition.\n",
    "\n",
    "Lets use the onsets we loaded. The onsets are values that tell the computer/model what times  the events we care about started.\n",
    "Next click on Onsets then Edit Value\n",
    "\n",
    "Since we already loaded the movieon.mat file that contains our onsets we are can load them by just naming the matlab variable. Type\n"
   ]
  },
  {
   "cell_type": "code",
   "execution_count": null,
   "metadata": {},
   "outputs": [],
   "source": [
    "movieon"
   ]
  },
  {
   "cell_type": "markdown",
   "metadata": {},
   "source": [
    "Click OK\n",
    "\n",
    "This will take the onsets we loaded into matlab earlier and if you did this correctly you should see 6 values populate this field.\n",
    "\n",
    "We could have typed them in but as you may have found out through these labs typos happen quite often and they would alter our results considerably!\n",
    "\n",
    "Next we can use the duration information we loaded to to tell the computer/model how long each of the events that we specified with our onsets was.\n",
    "\n",
    "Click on Durations, Edit Value\n",
    "\n"
   ]
  },
  {
   "cell_type": "code",
   "execution_count": null,
   "metadata": {},
   "outputs": [],
   "source": [
    "movieon_dur"
   ]
  },
  {
   "cell_type": "markdown",
   "metadata": {},
   "source": [
    "You should see 6 values in there. "
   ]
  },
  {
   "cell_type": "markdown",
   "metadata": {},
   "source": [
    "# Nuisance regressors\n",
    "\n",
    "Go to the terminal you are running matlab from and type"
   ]
  },
  {
   "cell_type": "code",
   "execution_count": null,
   "metadata": {},
   "outputs": [],
   "source": [
    "whos"
   ]
  },
  {
   "cell_type": "markdown",
   "metadata": {},
   "source": [
    "This shows us what variables are in the workspace and how large they are. \n",
    "\n",
    "How large is the regressors variable? \n",
    "\n",
    "Why might we have this many columns?\n",
    "\n",
    "Take a quick look at what we put in here:"
   ]
  },
  {
   "cell_type": "code",
   "execution_count": null,
   "metadata": {},
   "outputs": [],
   "source": [
    "figure('color','w')\n",
    "imagesc(s006_regressors)\n",
    "colormap(gray)"
   ]
  },
  {
   "cell_type": "markdown",
   "metadata": {},
   "source": [
    "What do you think each of these columns are?\n",
    "\n",
    "Do you see anything that looks odd?\n",
    "\n",
    "\n",
    "If you are happy with what we have for regressors then click Multiple regressors, Specify and Navigate to /afs/dbic.dartmouth.edu/usr/PBS60/DATA/Lab_03/ONSETS and select s006_regressors.txt"
   ]
  },
  {
   "cell_type": "markdown",
   "metadata": {},
   "source": [
    "# Saving GLM and running model\n",
    "\n",
    "Before you try to run your GLM you should save it. \n",
    "\n",
    "File, Save Batch\n",
    "\n",
    "Save it as GLM_MovieON.mat or something similar.\n",
    "\n",
    "Once you have saved you can click play (green arrow)."
   ]
  },
  {
   "cell_type": "markdown",
   "metadata": {},
   "source": [
    "# Once we have made our model...\n",
    "You should see something relatively similar to this popup:\n",
    "<img src=\"Images/Lab_03_MOVIEON_GLMa.png\"></img>\n",
    "\n",
    "\n",
    "The column on the left specifies your movie condition, the remaining columns are your regressors of non-interest\n",
    "\n",
    "\n",
    "1:6 motion\n",
    "\n",
    "7 linear trends within each run to deal with scanner drift\n",
    "\n",
    "8 run regressor \n",
    "\n",
    "9 constant\n",
    "\n",
    "\n",
    "Did we miss anything that we should have specified? \n",
    "\n",
    "Have we specified too much?\n",
    "\n",
    "Does your image look different than the image above? Why?\n",
    "\n",
    "If you are happy with what we have specified then we need to estimate the model. This means we want to apply the results of the GLM we estimated above to the brain data.  \n",
    "\n",
    "Click Estimate from the SPM menu. This only asks us for one thing... the SPM.mat file.\n",
    "\n",
    "Select the SPM.mat file in your GLM folder then click the green play button and wait a while!"
   ]
  },
  {
   "cell_type": "markdown",
   "metadata": {},
   "source": [
    "# While waiting for the GLM to run...\n",
    "\n",
    "Please review:\n",
    "http://www.fil.ion.ucl.ac.uk/mfd_archive/2011/page1/mfd2011_GLM.pdf"
   ]
  },
  {
   "cell_type": "markdown",
   "metadata": {},
   "source": [
    "Once its finished take a look at the files that it created"
   ]
  },
  {
   "cell_type": "code",
   "execution_count": 1,
   "metadata": {},
   "outputs": [
    {
     "name": "stdout",
     "output_type": "stream",
     "text": [
      "\u001b[34mImages\u001b[m\u001b[m/                               Lab_02_Preprocessing.ipynb copy\r\n",
      "Lab_01_Navigating_the_terminal.ipynb  Lab_03_GLM.ipynb\r\n",
      "Lab_02_Preprocessing.ipynb\r\n"
     ]
    }
   ],
   "source": [
    "ls"
   ]
  },
  {
   "cell_type": "markdown",
   "metadata": {},
   "source": [
    "You should see the following files\n",
    "\n",
    "<img src=\"Images/Lab_03_GLM_Files.png\"></img>\n",
    "\n",
    "The beta images are the beta weights from the general linear model for each of your regressors. How do the beta weights differ between movie on VS motion VS run regressor? Open xjview and take a look at a few by typing the following in the command window"
   ]
  },
  {
   "cell_type": "code",
   "execution_count": null,
   "metadata": {},
   "outputs": [],
   "source": [
    "xjview"
   ]
  },
  {
   "cell_type": "markdown",
   "metadata": {},
   "source": [
    "ResI_0*.nii are residual files from each TR, SPM only saves 64 by default so we don't fill up our whole hard drive. \n",
    "\n",
    "ResMS.nii is the residual variance left after we calculated our model. Open this in xjview - are there some brain areas that we did a better job of modeling (ie lower residual variance) than others?"
   ]
  },
  {
   "cell_type": "markdown",
   "metadata": {},
   "source": [
    "# Contrast of interest\n",
    "\n",
    "Select your SPM.mat file\n",
    "\n",
    "Click define contrast, name it MOVIEON\n",
    "\n",
    "We want to identify regions that are more active when the movie is on so we want to weight the first column and ignore the others. \n",
    "\n",
    "Click t-contrast since we want a directional contrast. \n",
    "\n",
    "Click in the contrast weights vector and enter 1 then click submit. \n",
    "\n",
    "Doing this weights our movie column by a factor of 1 and treats all of the other columns as nuisance regressors. You also could have entered 1 followed by 0's for all of the nuisance regressor columns but SPM does this for you. \n",
    "\n",
    "Click Done\n",
    "\n",
    "A different window will ask you if you want to do any masking... click none\n",
    "\n",
    "Title for comparison: movieon\n",
    "\n",
    "You don't need to do any adjustment for p-value... click through the defaults. You can open this image with xjview by typing xjview on the command line.\n",
    "\n",
    "All of the subjects have already been preprocessed and run through the basic GLM and contrast of interest above. "
   ]
  },
  {
   "cell_type": "markdown",
   "metadata": {},
   "source": [
    "# QA: Identifying subjects that we might not want to include in our group analysis\n",
    "\n",
    "Login to canvas and go to Files/Class Project QA and download all the files there. \n",
    "\n",
    "<img src=\"Images/Lab_03_QA_Motion.png\"></img>\n",
    "\n",
    "<img src=\"Images/Lab_03_QA_SNR.png\"></img>\n",
    "\n",
    "\n",
    "Scroll through the files... are there any subjects that look particularly alarming in data quality?\n",
    "\n",
    "Pay particular attention to motion and SNR. In these figures brighter color means higher SNR. We are using the same scale across all subjects. \n",
    "\n",
    "Do you see anything suspect?"
   ]
  },
  {
   "cell_type": "markdown",
   "metadata": {},
   "source": []
  },
  {
   "cell_type": "code",
   "execution_count": null,
   "metadata": {},
   "outputs": [],
   "source": []
  },
  {
   "cell_type": "code",
   "execution_count": null,
   "metadata": {},
   "outputs": [],
   "source": []
  },
  {
   "cell_type": "markdown",
   "metadata": {},
   "source": [
    "# 2nd level analysis\n",
    "\n",
    "For the 2nd level analysis we are going to use contrasts created from the following GLM:\n",
    "<img src=\"Images/Lab_03_MOVIEON_GLM.png\"></img>\n",
    "\n",
    "\n",
    "\n",
    "How is it different than what we ran before? \n",
    "\n",
    "Now that you have decided which subjects to include in your random effects analysis we can proceed. Lets start this part with a clean slate so from matlab type"
   ]
  },
  {
   "cell_type": "code",
   "execution_count": 2,
   "metadata": {},
   "outputs": [
    {
     "ename": "SyntaxError",
     "evalue": "invalid syntax (<ipython-input-2-5545dddf0a76>, line 1)",
     "output_type": "error",
     "traceback": [
      "\u001b[0;36m  File \u001b[0;32m\"<ipython-input-2-5545dddf0a76>\"\u001b[0;36m, line \u001b[0;32m1\u001b[0m\n\u001b[0;31m    close all\u001b[0m\n\u001b[0m            ^\u001b[0m\n\u001b[0;31mSyntaxError\u001b[0m\u001b[0;31m:\u001b[0m invalid syntax\n"
     ]
    }
   ],
   "source": [
    "close all\n",
    "cd ~\n",
    "mkdir('RFX_MOVIEON')\n",
    "cd('RFX_MOVIEON')\n",
    "spm fmri"
   ]
  },
  {
   "cell_type": "markdown",
   "metadata": {},
   "source": [
    "Now that we have a fresh instance on SPM up and running click Specify 2nd-level\n",
    "\n",
    "This will open batch editor. Lets select our current directory as the output directory from the left menu, \".\"\n",
    "\n",
    "Under Design chose One-sample t-test then under Scans click Specify\n",
    "\n",
    "Navigate to /afs/dbic.dartmouth.edu/usr/PBS60/DATA/Lab_03/CONTRASTS/ and select the subjects that you want to include in your random effects model. \n",
    "\n",
    "Click File, Save Batch and save as RFX_MOVIEON.mat\n",
    "\n",
    "Click play then inspect your results in xjview once matlab says its done processing."
   ]
  },
  {
   "cell_type": "code",
   "execution_count": null,
   "metadata": {},
   "outputs": [],
   "source": []
  }
 ],
 "metadata": {
  "kernelspec": {
   "display_name": "Python 3",
   "language": "python",
   "name": "python3"
  },
  "language_info": {
   "codemirror_mode": {
    "name": "ipython",
    "version": 3
   },
   "file_extension": ".py",
   "mimetype": "text/x-python",
   "name": "python",
   "nbconvert_exporter": "python",
   "pygments_lexer": "ipython3",
   "version": "3.6.2"
  }
 },
 "nbformat": 4,
 "nbformat_minor": 2
}
